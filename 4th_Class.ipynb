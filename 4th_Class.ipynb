{
  "nbformat": 4,
  "nbformat_minor": 0,
  "metadata": {
    "colab": {
      "provenance": [],
      "authorship_tag": "ABX9TyM8guPptYHn46nem26SjOcx",
      "include_colab_link": true
    },
    "kernelspec": {
      "name": "python3",
      "display_name": "Python 3"
    },
    "language_info": {
      "name": "python"
    }
  },
  "cells": [
    {
      "cell_type": "markdown",
      "metadata": {
        "id": "view-in-github",
        "colab_type": "text"
      },
      "source": [
        "<a href=\"https://colab.research.google.com/github/Gaurang0053/GATE-DS-AI/blob/main/4th_Class.ipynb\" target=\"_parent\"><img src=\"https://colab.research.google.com/assets/colab-badge.svg\" alt=\"Open In Colab\"/></a>"
      ]
    },
    {
      "cell_type": "markdown",
      "source": [
        "# **Function**\n",
        "# Built-in function\n",
        "# User-defined function\n"
      ],
      "metadata": {
        "id": "j8ZO7Mhw0yHj"
      }
    },
    {
      "cell_type": "code",
      "execution_count": null,
      "metadata": {
        "colab": {
          "base_uri": "https://localhost:8080/"
        },
        "id": "8aDzd_N_0rLu",
        "outputId": "11416de7-2c3b-46ff-94cc-c9ec0c3551e4"
      },
      "outputs": [
        {
          "output_type": "stream",
          "name": "stdout",
          "text": [
            "10\n"
          ]
        }
      ],
      "source": [
        "def program(): #function initialization\n",
        "    num1=50\n",
        "    num2=40\n",
        "    sub= num1-num2\n",
        "    print (sub)\n",
        "\n",
        "program() #function calling"
      ]
    },
    {
      "cell_type": "code",
      "source": [
        "def program():\n",
        "  a=int(input(\"Enter the first value : \"))\n",
        "  b=int(input(\"Enter the second value : \"))\n",
        "  sum= a + b\n",
        "  print(\"The sum : \",sum)\n",
        "\n",
        "program()\n"
      ],
      "metadata": {
        "colab": {
          "base_uri": "https://localhost:8080/"
        },
        "id": "z2t1LNHP1jvi",
        "outputId": "f386e658-49c6-4f4b-9f1d-dd8a1ab68152"
      },
      "execution_count": null,
      "outputs": [
        {
          "output_type": "stream",
          "name": "stdout",
          "text": [
            "Enter the first value : 10\n",
            "Enter the second value : 10\n",
            "The sum :  20\n"
          ]
        }
      ]
    },
    {
      "cell_type": "code",
      "source": [
        "def evenodd():\n",
        "  no=int(input(\"Enter the value : \"))\n",
        "  if no % 2 == 0 :\n",
        "    print(\"The No\",no ,\"is even\")\n",
        "  else:\n",
        "    print (\"The No\", no ,\"is odd\")\n",
        "\n",
        "evenodd()"
      ],
      "metadata": {
        "colab": {
          "base_uri": "https://localhost:8080/"
        },
        "id": "XrBgNW9j2003",
        "outputId": "fdb5e6ef-286f-441a-b31c-670aa44ac901"
      },
      "execution_count": null,
      "outputs": [
        {
          "output_type": "stream",
          "name": "stdout",
          "text": [
            "Enter the value : 20\n",
            "The No 20 is even\n"
          ]
        }
      ]
    },
    {
      "cell_type": "code",
      "source": [
        "def greatestno():\n",
        "  num1=int(input(\"Enter the first value : \"))\n",
        "  num2=int(input(\"Enter the second value : \"))\n",
        "  num3=int(input(\"Enter the third value : \"))\n",
        "\n",
        "  if num1>num2 and num1>num3:\n",
        "    print(\"The num1 is the greatest number\")\n",
        "  elif num2>num1 and num2>num3:\n",
        "    print(\"The num2 is the greatest number\")\n",
        "  elif num1==num2==num3:\n",
        "    print(\"It is invalid \")\n",
        "  else:\n",
        "    print(\"The num3 is the greatest number\")\n",
        "\n",
        "greatestno()"
      ],
      "metadata": {
        "colab": {
          "base_uri": "https://localhost:8080/"
        },
        "id": "yMsJEVPQ51jy",
        "outputId": "30e1ae49-5f6e-4a56-abd2-934bd15ca0b0"
      },
      "execution_count": null,
      "outputs": [
        {
          "output_type": "stream",
          "name": "stdout",
          "text": [
            "Enter the first value : 10\n",
            "Enter the second value : 60\n",
            "Enter the third value : 40\n",
            "The num2 is the greatest number\n"
          ]
        }
      ]
    },
    {
      "cell_type": "code",
      "source": [
        "def greatestno(num1,num2,num3):\n",
        "\n",
        "  if num1>num2 and num1>num3:\n",
        "    print(\"num1 is the greatest number\")\n",
        "  elif num2>num1 and num2>num3:\n",
        "    print(\"num2 is the greatest number\")\n",
        "  else:\n",
        "    print(\"num3 is the greatest number\")\n",
        "\n",
        "greatestno(10,60,40)"
      ],
      "metadata": {
        "colab": {
          "base_uri": "https://localhost:8080/"
        },
        "id": "_8chW2wl8Erv",
        "outputId": "bfc33ab6-2863-4914-c47e-7182bb74a75c"
      },
      "execution_count": null,
      "outputs": [
        {
          "output_type": "stream",
          "name": "stdout",
          "text": [
            "num2 is the greatest number\n"
          ]
        }
      ]
    },
    {
      "cell_type": "code",
      "source": [
        "def makelist(mylist):\n",
        "    mylist.sort()\n",
        "    mylist.reverse()\n",
        "    print(mylist)\n",
        "\n",
        "mylist=list(input(\"enter the list : \"))\n",
        "makelist(mylist)\n"
      ],
      "metadata": {
        "colab": {
          "base_uri": "https://localhost:8080/"
        },
        "id": "V-lLqCvb_c5h",
        "outputId": "ffce4c07-2af5-42f6-f08b-e6294f353e73"
      },
      "execution_count": null,
      "outputs": [
        {
          "output_type": "stream",
          "name": "stdout",
          "text": [
            "enter the list : 5,6,3,9,4\n",
            "['9', '6', '5', '4', '3', ',', ',', ',', ',']\n"
          ]
        }
      ]
    },
    {
      "cell_type": "markdown",
      "source": [
        "# **Slicing**"
      ],
      "metadata": {
        "id": "kNVDizD1u_qH"
      }
    },
    {
      "cell_type": "code",
      "source": [
        "# I am learning python language\n",
        "\n",
        "# [ start index : end index(n-1)]\n",
        "\n",
        "mystr=\"Python\"\n",
        "print(mystr[1 : 3])"
      ],
      "metadata": {
        "colab": {
          "base_uri": "https://localhost:8080/"
        },
        "id": "HOYIbNbkvDSA",
        "outputId": "591b1848-8fdd-4ec3-b422-5768ac4f4c33"
      },
      "execution_count": null,
      "outputs": [
        {
          "output_type": "stream",
          "name": "stdout",
          "text": [
            "yt\n"
          ]
        }
      ]
    },
    {
      "cell_type": "code",
      "source": [
        "mystr=\"I am learning python language\"\n",
        "print(mystr[0 : 15])"
      ],
      "metadata": {
        "colab": {
          "base_uri": "https://localhost:8080/"
        },
        "id": "dxr1QsZ7xRKZ",
        "outputId": "43942f6b-c001-40a8-af1b-f9d0aafe4698"
      },
      "execution_count": null,
      "outputs": [
        {
          "output_type": "stream",
          "name": "stdout",
          "text": [
            "I am learning p\n"
          ]
        }
      ]
    },
    {
      "cell_type": "code",
      "source": [
        "mystr=\"I am learning python language\"\n",
        "print(mystr[-8 : -1])"
      ],
      "metadata": {
        "colab": {
          "base_uri": "https://localhost:8080/"
        },
        "id": "rxpKzKHIyG_Z",
        "outputId": "857ce618-0328-45e6-8555-9a1aa56bf672"
      },
      "execution_count": null,
      "outputs": [
        {
          "output_type": "stream",
          "name": "stdout",
          "text": [
            "languag\n"
          ]
        }
      ]
    }
  ]
}