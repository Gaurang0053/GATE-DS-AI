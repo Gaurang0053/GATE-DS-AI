{
  "nbformat": 4,
  "nbformat_minor": 0,
  "metadata": {
    "colab": {
      "provenance": [],
      "authorship_tag": "ABX9TyMM6klRKFlpRSTw93eWSSQZ",
      "include_colab_link": true
    },
    "kernelspec": {
      "name": "python3",
      "display_name": "Python 3"
    },
    "language_info": {
      "name": "python"
    }
  },
  "cells": [
    {
      "cell_type": "markdown",
      "metadata": {
        "id": "view-in-github",
        "colab_type": "text"
      },
      "source": [
        "<a href=\"https://colab.research.google.com/github/Gaurang0053/GATE-DS-AI/blob/main/Coding_Practice_1.ipynb\" target=\"_parent\"><img src=\"https://colab.research.google.com/assets/colab-badge.svg\" alt=\"Open In Colab\"/></a>"
      ]
    },
    {
      "cell_type": "code",
      "execution_count": null,
      "metadata": {
        "id": "WOPIuOObto5s",
        "colab": {
          "base_uri": "https://localhost:8080/"
        },
        "outputId": "a8a35073-7cf9-4c81-e442-a159b5cc257c"
      },
      "outputs": [
        {
          "output_type": "stream",
          "name": "stdout",
          "text": [
            "['bmw', 'merc', 'audi', 'jaguar', 'volvo']\n",
            "Audi\n"
          ]
        }
      ],
      "source": [
        "mylist=['bmw','merc','audi','jaguar','volvo'] # printing element\n",
        "print(mylist)\n",
        "print(mylist[2].title())"
      ]
    },
    {
      "cell_type": "code",
      "source": [
        "mylist=['bmw','merc','audi','jaguar','volvo'] # modifying element\n",
        "mylist[1]='dodge'\n",
        "print(mylist)"
      ],
      "metadata": {
        "colab": {
          "base_uri": "https://localhost:8080/"
        },
        "id": "laZhMO5bxfAV",
        "outputId": "85fe1e9b-f8f1-43a8-9b18-1097a6a48d31"
      },
      "execution_count": null,
      "outputs": [
        {
          "output_type": "stream",
          "name": "stdout",
          "text": [
            "['bmw', 'dodge', 'audi', 'jaguar', 'volvo']\n"
          ]
        }
      ]
    },
    {
      "cell_type": "code",
      "source": [
        "mylist=['bmw','merc','audi','jaguar','volvo'] # adding element\n",
        "mylist.append('dodge')\n",
        "print(mylist)"
      ],
      "metadata": {
        "colab": {
          "base_uri": "https://localhost:8080/"
        },
        "id": "RUXHraD7x1Ru",
        "outputId": "5d4c6b58-bf78-4274-eecc-d7ad71f118d1"
      },
      "execution_count": null,
      "outputs": [
        {
          "output_type": "stream",
          "name": "stdout",
          "text": [
            "['bmw', 'merc', 'audi', 'jaguar', 'volvo', 'dodge']\n"
          ]
        }
      ]
    },
    {
      "cell_type": "code",
      "source": [
        "mylist=['bmw','merc','audi','jaguar','volvo'] # inserting element\n",
        "mylist.insert(2,'dodge')\n",
        "mylist.insert(3,'aston')\n",
        "print(mylist)\n",
        "\n",
        "mylistpop=mylist.pop(5)\n",
        "print(mylist)\n",
        "print(mylistpop)\n",
        "\n",
        "mylistremove=mylist.remove('dodge')\n",
        "print(mylist)"
      ],
      "metadata": {
        "colab": {
          "base_uri": "https://localhost:8080/"
        },
        "id": "lg1-ILm-yrUt",
        "outputId": "dc8d9f70-6685-4547-9f6c-39b65e7b7899"
      },
      "execution_count": null,
      "outputs": [
        {
          "output_type": "stream",
          "name": "stdout",
          "text": [
            "['bmw', 'merc', 'dodge', 'aston', 'audi', 'jaguar', 'volvo']\n",
            "['bmw', 'merc', 'dodge', 'aston', 'audi', 'volvo']\n",
            "jaguar\n",
            "['bmw', 'merc', 'aston', 'audi', 'volvo']\n"
          ]
        }
      ]
    },
    {
      "cell_type": "markdown",
      "source": [
        "# Write a Python program to print the following string in a specific format (see the output).\n",
        "Sample String : \"Twinkle, twinkle, little star, How I wonder what you are! Up above the world so high, Like a diamond in the sky. Twinkle, twinkle, little star, How I wonder what you are\""
      ],
      "metadata": {
        "id": "WQP5moZP3AIM"
      }
    },
    {
      "cell_type": "code",
      "source": [
        "print(\"Twinkle, twinkle, little star, \\n\\tHow I wonder what you are! \\n\\t\\tUp above the world so high, \\n\\t\\tLike a diamond in the sky. \\nTwinkle, twinkle, little star, \\n\\tHow I wonder what you are!\")\n",
        "\n"
      ],
      "metadata": {
        "colab": {
          "base_uri": "https://localhost:8080/"
        },
        "id": "MQOhLQgs3CGH",
        "outputId": "0acd1893-1c92-4801-d043-c62212cad169"
      },
      "execution_count": null,
      "outputs": [
        {
          "output_type": "stream",
          "name": "stdout",
          "text": [
            "Twinkle, twinkle, little star, \n",
            "\tHow I wonder what you are! \n",
            "\t\tUp above the world so high, \n",
            "\t\tLike a diamond in the sky. \n",
            "Twinkle, twinkle, little star, \n",
            "\tHow I wonder what you are!\n"
          ]
        }
      ]
    },
    {
      "cell_type": "markdown",
      "source": [
        "# Write a Python program that calculates the area of a circle based on the radius entered by the user.\n",
        "Sample Output :\n",
        "r = 1.1\n",
        "Area = 3.8013271108436504"
      ],
      "metadata": {
        "id": "_y4YsptH7g_Q"
      }
    },
    {
      "cell_type": "code",
      "source": [
        "radius=float(input(\"enter the value of radius\"))\n",
        "area=3.14 * pow(radius,2)\n",
        "print(\"The area of circle is \",area)"
      ],
      "metadata": {
        "colab": {
          "base_uri": "https://localhost:8080/"
        },
        "id": "qJ6xnM6s7jud",
        "outputId": "8ea129ee-5e61-4573-f96d-5a0b952036de"
      },
      "execution_count": null,
      "outputs": [
        {
          "output_type": "stream",
          "name": "stdout",
          "text": [
            "enter the value of radius1.1\n",
            "The area of circle is  3.7994000000000008\n"
          ]
        }
      ]
    },
    {
      "cell_type": "markdown",
      "source": [
        "# Write a Python program that accepts the user's first and last name and prints them in reverse order with a space between them"
      ],
      "metadata": {
        "id": "2-AMiAfj922-"
      }
    },
    {
      "cell_type": "code",
      "source": [
        "firstname=input(\"enter the first name : \")\n",
        "lastname=input(\"enter the last name : \")\n",
        "fullname= f\"{lastname} \\t {firstname}\"\n",
        "print(fullname)\n",
        "\n"
      ],
      "metadata": {
        "colab": {
          "base_uri": "https://localhost:8080/"
        },
        "id": "pJ5GZzog-JM3",
        "outputId": "b5bd59cd-7623-404b-f60a-451da72d1f4b"
      },
      "execution_count": null,
      "outputs": [
        {
          "output_type": "stream",
          "name": "stdout",
          "text": [
            "enter the first name : ram\n",
            "enter the last name : gupta\n",
            "gupta \t ram\n"
          ]
        }
      ]
    },
    {
      "cell_type": "markdown",
      "source": [
        "#  Write a Python program that accepts a sequence of comma-separated numbers from the user and generates a list and a tuple of those numbers.\n",
        "Sample data : 3, 5, 7, 23\n",
        "Output :\n",
        "List : ['3', ' 5', ' 7', ' 23']\n",
        "Tuple : ('3', ' 5', ' 7', ' 23')"
      ],
      "metadata": {
        "id": "xhFNBdT6CB83"
      }
    },
    {
      "cell_type": "code",
      "source": [
        "value=input(\"enter values: \")\n",
        "numbers=value.split(',')\n",
        "\n",
        "numberslist=list(numbers)\n",
        "print(\"List:\",numberslist)\n",
        "\n",
        "numberstuple=tuple(numbers)\n",
        "print(\"Tuple:\",numberstuple)\n"
      ],
      "metadata": {
        "colab": {
          "base_uri": "https://localhost:8080/"
        },
        "id": "ClL6JjtvCDIH",
        "outputId": "0be1e200-7314-4ad2-ab43-12fb364033dc"
      },
      "execution_count": null,
      "outputs": [
        {
          "output_type": "stream",
          "name": "stdout",
          "text": [
            "enter values: 3,5,7,23\n",
            "List: ['3', '5', '7', '23']\n",
            "Tuple: ('3', '5', '7', '23')\n"
          ]
        }
      ]
    },
    {
      "cell_type": "markdown",
      "source": [
        "# Write a Python program that accepts a filename from the user and prints the extension of the file.\n",
        "Sample filename : abc.java\n",
        "Output : java"
      ],
      "metadata": {
        "id": "tCwtCCAOFr9x"
      }
    },
    {
      "cell_type": "code",
      "source": [
        "file=input(\"enter the file name: \")\n",
        "exe=file.split('.')\n",
        "print(\"The extension of the file is : \" + repr(exe[-1]))"
      ],
      "metadata": {
        "colab": {
          "base_uri": "https://localhost:8080/"
        },
        "id": "eB20A-poFxeL",
        "outputId": "db113087-abe8-4c86-d528-4d394dfd50f4"
      },
      "execution_count": null,
      "outputs": [
        {
          "output_type": "stream",
          "name": "stdout",
          "text": [
            "enter the file name: abc.java\n",
            "The extension of the file is : 'java'\n"
          ]
        }
      ]
    },
    {
      "cell_type": "markdown",
      "source": [
        "# Write a Python program to display the first and last colors from the following list.\n",
        "color_list = [\"Red\",\"Green\",\"White\" ,\"Black\"]"
      ],
      "metadata": {
        "id": "PKB-fY__IkfU"
      }
    },
    {
      "cell_type": "code",
      "source": [
        "color_list = [\"Red\",\"Green\",\"White\" ,\"Black\"]\n",
        "print(color_list[0],'and',color_list[3])"
      ],
      "metadata": {
        "colab": {
          "base_uri": "https://localhost:8080/"
        },
        "id": "wPDigdVxIp6o",
        "outputId": "c231f85c-9e07-4c34-c373-c9e255a0b971"
      },
      "execution_count": null,
      "outputs": [
        {
          "output_type": "stream",
          "name": "stdout",
          "text": [
            "Red and Black\n"
          ]
        }
      ]
    },
    {
      "cell_type": "markdown",
      "source": [
        "#  Write a Python program to display the examination schedule. (extract the date from exam_st_date).\n",
        "exam_st_date = (11, 12, 2014)\n",
        "Sample Output : The examination will start from : 11 / 12 / 2014"
      ],
      "metadata": {
        "id": "PzasEhSlJWVK"
      }
    },
    {
      "cell_type": "code",
      "source": [
        "exam_st_date = (11, 12, 2014)\n",
        "print(\"The examination will start from : %i / %i / %i\" % exam_st_date)"
      ],
      "metadata": {
        "colab": {
          "base_uri": "https://localhost:8080/"
        },
        "id": "zoKw2GbYJXh4",
        "outputId": "33a7ab2f-2f34-46f4-c644-052a87919b25"
      },
      "execution_count": null,
      "outputs": [
        {
          "output_type": "stream",
          "name": "stdout",
          "text": [
            "The examination will start from : 11 / 12 / 2014\n"
          ]
        }
      ]
    },
    {
      "cell_type": "markdown",
      "source": [
        "# Write a Python program that accepts an integer (n) and computes the value of n+nn+nnn.\n",
        "#Sample value of n is 5\n",
        "#Expected Result : 615"
      ],
      "metadata": {
        "id": "hMrq_8aELCtV"
      }
    },
    {
      "cell_type": "code",
      "source": [
        "n=int(input(\"enter the value of n: \"))\n",
        "n1=int( \"%s\"%n)\n",
        "n2=int( \"%s%s\"%(n,n))\n",
        "n3=int( \"%s%s%s\"%(n,n,n))\n",
        "print(n1+n2+n3)"
      ],
      "metadata": {
        "colab": {
          "base_uri": "https://localhost:8080/"
        },
        "id": "baG05gy1LD7D",
        "outputId": "a9a0e5b5-7b41-4be4-ae97-e3c0b6f2d3e6"
      },
      "execution_count": null,
      "outputs": [
        {
          "output_type": "stream",
          "name": "stdout",
          "text": [
            "enter the value of n: 5\n",
            "615\n"
          ]
        }
      ]
    },
    {
      "cell_type": "markdown",
      "source": [
        "# Write a Python program to print the following 'here document'.\n",
        "#Sample string :\n",
        "#a string that you \"don't\" have to escape\n",
        "#This\n",
        "#is a ....... multi-line\n",
        "#heredoc string --------> example"
      ],
      "metadata": {
        "id": "k0q6YbBcdfYd"
      }
    },
    {
      "cell_type": "code",
      "source": [
        "input=\"\"\"\n",
        "      a string that you \"don't\" have to escape\n",
        "      This\n",
        "      is a .......multi-line\n",
        "      heredoc string --------> example \"\"\"\n",
        "print(input)\n"
      ],
      "metadata": {
        "colab": {
          "base_uri": "https://localhost:8080/"
        },
        "id": "j1Ln-q0LdEWh",
        "outputId": "6f92ec8a-1ef9-4385-e244-84fc4e553aa4"
      },
      "execution_count": null,
      "outputs": [
        {
          "output_type": "stream",
          "name": "stdout",
          "text": [
            "\n",
            "      a string that you \"don't\" have to escape\n",
            "      This\n",
            "      is a .......multi-line\n",
            "      heredoc string --------> example \n"
          ]
        }
      ]
    },
    {
      "cell_type": "markdown",
      "source": [
        "# Write a Python program to calculate the number of days between two dates.\n",
        "#  Sample dates : (2014, 7, 2), (2014, 7, 11)\n",
        "#  Expected output : 9 days"
      ],
      "metadata": {
        "id": "BgSnN5DteP81"
      }
    },
    {
      "cell_type": "code",
      "source": [
        "from datetime import date\n",
        "\n",
        "firstdate= date(2024,7,2)\n",
        "lastdate= date(2024,7,11)\n",
        "\n",
        "daysdiff= lastdate-firstdate\n",
        "print(\"The number of days between two dates is\",daysdiff.days)"
      ],
      "metadata": {
        "colab": {
          "base_uri": "https://localhost:8080/"
        },
        "id": "rmIsOlUyeaBB",
        "outputId": "adfd43cb-33e3-4941-cebc-cec362a10315"
      },
      "execution_count": null,
      "outputs": [
        {
          "output_type": "stream",
          "name": "stdout",
          "text": [
            "The number of days between two dates is 9\n"
          ]
        }
      ]
    },
    {
      "cell_type": "markdown",
      "source": [
        "# Write a Python program to get the volume of a sphere with radius six."
      ],
      "metadata": {
        "id": "wfhtzWiIf2yz"
      }
    },
    {
      "cell_type": "code",
      "source": [
        "pi=3.14\n",
        "r=6\n",
        "vol= (4/3 *3.14) *pow(r,3)\n",
        "print(vol)"
      ],
      "metadata": {
        "colab": {
          "base_uri": "https://localhost:8080/"
        },
        "id": "d_LCA47SiRVa",
        "outputId": "0657f76a-bfc3-49d7-eb49-f42e2421a5ff"
      },
      "execution_count": null,
      "outputs": [
        {
          "output_type": "stream",
          "name": "stdout",
          "text": [
            "904.3199999999999\n"
          ]
        }
      ]
    },
    {
      "cell_type": "markdown",
      "source": [
        "# Write a Python program to calculate the difference between a given number and 17. If the number is greater than 17, return twice the absolute difference."
      ],
      "metadata": {
        "id": "yT_87CbDjl3F"
      }
    },
    {
      "cell_type": "code",
      "source": [
        "number=int(input(\"Enter the number:\"))\n",
        "difference=number-17\n",
        "if number<17:\n",
        "  print(f\"The difference between {number} and 17 is\",difference)\n",
        "else:\n",
        "  print(f\"Twice the Absolute difference between {number} and 17 is\", 2*difference)\n"
      ],
      "metadata": {
        "colab": {
          "base_uri": "https://localhost:8080/",
          "height": 211
        },
        "id": "T36QrRWejtNz",
        "outputId": "f7341f95-6f56-41b5-9436-2442b24a2415"
      },
      "execution_count": 19,
      "outputs": [
        {
          "output_type": "error",
          "ename": "TypeError",
          "evalue": "'str' object is not callable",
          "traceback": [
            "\u001b[0;31m---------------------------------------------------------------------------\u001b[0m",
            "\u001b[0;31mTypeError\u001b[0m                                 Traceback (most recent call last)",
            "\u001b[0;32m<ipython-input-19-3ecfa6c1ee37>\u001b[0m in \u001b[0;36m<cell line: 1>\u001b[0;34m()\u001b[0m\n\u001b[0;32m----> 1\u001b[0;31m \u001b[0mnumber\u001b[0m\u001b[0;34m=\u001b[0m\u001b[0mint\u001b[0m\u001b[0;34m(\u001b[0m\u001b[0minput\u001b[0m\u001b[0;34m(\u001b[0m\u001b[0;34m\"Enter the number:\"\u001b[0m\u001b[0;34m)\u001b[0m\u001b[0;34m)\u001b[0m\u001b[0;34m\u001b[0m\u001b[0;34m\u001b[0m\u001b[0m\n\u001b[0m\u001b[1;32m      2\u001b[0m \u001b[0mdifference\u001b[0m\u001b[0;34m=\u001b[0m\u001b[0mnumber\u001b[0m\u001b[0;34m-\u001b[0m\u001b[0;36m17\u001b[0m\u001b[0;34m\u001b[0m\u001b[0;34m\u001b[0m\u001b[0m\n\u001b[1;32m      3\u001b[0m \u001b[0;32mif\u001b[0m \u001b[0mnumber\u001b[0m\u001b[0;34m<\u001b[0m\u001b[0;36m17\u001b[0m\u001b[0;34m:\u001b[0m\u001b[0;34m\u001b[0m\u001b[0;34m\u001b[0m\u001b[0m\n\u001b[1;32m      4\u001b[0m   \u001b[0mprint\u001b[0m\u001b[0;34m(\u001b[0m\u001b[0;34mf\"The difference between {number} and 17 is\"\u001b[0m\u001b[0;34m,\u001b[0m\u001b[0mdifference\u001b[0m\u001b[0;34m)\u001b[0m\u001b[0;34m\u001b[0m\u001b[0;34m\u001b[0m\u001b[0m\n\u001b[1;32m      5\u001b[0m \u001b[0;32melse\u001b[0m\u001b[0;34m:\u001b[0m\u001b[0;34m\u001b[0m\u001b[0;34m\u001b[0m\u001b[0m\n",
            "\u001b[0;31mTypeError\u001b[0m: 'str' object is not callable"
          ]
        }
      ]
    },
    {
      "cell_type": "markdown",
      "source": [
        "# Write a Python program to test whether a number is within 100 of 1000 or 2000."
      ],
      "metadata": {
        "id": "24ggE-7dnugG"
      }
    },
    {
      "cell_type": "code",
      "source": [
        "n=int(input(\"Enter the number:\"))\n",
        "if (abs(1000 - n) <= 100) or (abs(2000 - n) <= 100):\n",
        "    print('The difference of number is equal or less than 100')\n",
        "else:\n",
        "    print(\"The difference of number is not equal or less than 100\")"
      ],
      "metadata": {
        "colab": {
          "base_uri": "https://localhost:8080/",
          "height": 211
        },
        "id": "-QubdQIbn0Tp",
        "outputId": "c8a0a88c-db41-482f-9988-b30d28e40d4c"
      },
      "execution_count": 20,
      "outputs": [
        {
          "output_type": "error",
          "ename": "TypeError",
          "evalue": "'str' object is not callable",
          "traceback": [
            "\u001b[0;31m---------------------------------------------------------------------------\u001b[0m",
            "\u001b[0;31mTypeError\u001b[0m                                 Traceback (most recent call last)",
            "\u001b[0;32m<ipython-input-20-bac396b4c30c>\u001b[0m in \u001b[0;36m<cell line: 1>\u001b[0;34m()\u001b[0m\n\u001b[0;32m----> 1\u001b[0;31m \u001b[0mn\u001b[0m\u001b[0;34m=\u001b[0m\u001b[0mint\u001b[0m\u001b[0;34m(\u001b[0m\u001b[0minput\u001b[0m\u001b[0;34m(\u001b[0m\u001b[0;34m\"Enter the number:\"\u001b[0m\u001b[0;34m)\u001b[0m\u001b[0;34m)\u001b[0m\u001b[0;34m\u001b[0m\u001b[0;34m\u001b[0m\u001b[0m\n\u001b[0m\u001b[1;32m      2\u001b[0m \u001b[0;32mif\u001b[0m \u001b[0;34m(\u001b[0m\u001b[0mabs\u001b[0m\u001b[0;34m(\u001b[0m\u001b[0;36m1000\u001b[0m \u001b[0;34m-\u001b[0m \u001b[0mn\u001b[0m\u001b[0;34m)\u001b[0m \u001b[0;34m<=\u001b[0m \u001b[0;36m100\u001b[0m\u001b[0;34m)\u001b[0m \u001b[0;32mor\u001b[0m \u001b[0;34m(\u001b[0m\u001b[0mabs\u001b[0m\u001b[0;34m(\u001b[0m\u001b[0;36m2000\u001b[0m \u001b[0;34m-\u001b[0m \u001b[0mn\u001b[0m\u001b[0;34m)\u001b[0m \u001b[0;34m<=\u001b[0m \u001b[0;36m100\u001b[0m\u001b[0;34m)\u001b[0m\u001b[0;34m:\u001b[0m\u001b[0;34m\u001b[0m\u001b[0;34m\u001b[0m\u001b[0m\n\u001b[1;32m      3\u001b[0m     \u001b[0mprint\u001b[0m\u001b[0;34m(\u001b[0m\u001b[0;34m'The difference of number is equal or less than 100'\u001b[0m\u001b[0;34m)\u001b[0m\u001b[0;34m\u001b[0m\u001b[0;34m\u001b[0m\u001b[0m\n\u001b[1;32m      4\u001b[0m \u001b[0;32melse\u001b[0m\u001b[0;34m:\u001b[0m\u001b[0;34m\u001b[0m\u001b[0;34m\u001b[0m\u001b[0m\n\u001b[1;32m      5\u001b[0m     \u001b[0mprint\u001b[0m\u001b[0;34m(\u001b[0m\u001b[0;34m\"The difference of number is not equal or less than 100\"\u001b[0m\u001b[0;34m)\u001b[0m\u001b[0;34m\u001b[0m\u001b[0;34m\u001b[0m\u001b[0m\n",
            "\u001b[0;31mTypeError\u001b[0m: 'str' object is not callable"
          ]
        }
      ]
    }
  ]
}