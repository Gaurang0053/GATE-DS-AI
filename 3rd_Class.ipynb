{
  "nbformat": 4,
  "nbformat_minor": 0,
  "metadata": {
    "colab": {
      "provenance": [],
      "authorship_tag": "ABX9TyNAH4GPbXg2u/lhgs/9wP84",
      "include_colab_link": true
    },
    "kernelspec": {
      "name": "python3",
      "display_name": "Python 3"
    },
    "language_info": {
      "name": "python"
    }
  },
  "cells": [
    {
      "cell_type": "markdown",
      "metadata": {
        "id": "view-in-github",
        "colab_type": "text"
      },
      "source": [
        "<a href=\"https://colab.research.google.com/github/Gaurang0053/GATE-DS-AI/blob/main/3rd_Class.ipynb\" target=\"_parent\"><img src=\"https://colab.research.google.com/assets/colab-badge.svg\" alt=\"Open In Colab\"/></a>"
      ]
    },
    {
      "cell_type": "markdown",
      "source": [
        "# **Indexing**\n",
        "#  \" P Y T H O N \"\n",
        "#  \" 0 1 2 3 4 5 \""
      ],
      "metadata": {
        "id": "Iyrywmp4_Is2"
      }
    },
    {
      "cell_type": "code",
      "execution_count": null,
      "metadata": {
        "colab": {
          "base_uri": "https://localhost:8080/"
        },
        "id": "dCuOZCuT9B0o",
        "outputId": "2147c636-b0fa-4217-8217-39a1ef14f25c"
      },
      "outputs": [
        {
          "output_type": "stream",
          "name": "stdout",
          "text": [
            "[76, 'learning', 23.9, 'python', 65]\n"
          ]
        }
      ],
      "source": [
        "mylist=[65,'python',23.9,\"learning\",76] # list can be changed\n",
        "mylist.reverse()\n",
        "print(mylist)"
      ]
    },
    {
      "cell_type": "code",
      "source": [
        "mylist=[65,87,45,82,2,00,64]\n",
        "mylist.sort()\n",
        "print(mylist)"
      ],
      "metadata": {
        "colab": {
          "base_uri": "https://localhost:8080/"
        },
        "id": "XXXosJAQ_ujz",
        "outputId": "e51f01a9-c786-48f9-a1da-b23d0cea6cbd"
      },
      "execution_count": null,
      "outputs": [
        {
          "output_type": "stream",
          "name": "stdout",
          "text": [
            "[0, 2, 45, 64, 65, 82, 87]\n"
          ]
        }
      ]
    },
    {
      "cell_type": "code",
      "source": [
        "mylist=[65,87,45,82,2,00,64]\n",
        "mylist.sort()\n",
        "mylist.reverse()\n",
        "print(mylist)"
      ],
      "metadata": {
        "colab": {
          "base_uri": "https://localhost:8080/"
        },
        "id": "9RJ87hecwuyU",
        "outputId": "40d275ba-89fb-4587-aa29-ebe554a9dffc"
      },
      "execution_count": 3,
      "outputs": [
        {
          "output_type": "stream",
          "name": "stdout",
          "text": [
            "[87, 82, 65, 64, 45, 2, 0]\n"
          ]
        }
      ]
    },
    {
      "cell_type": "code",
      "source": [
        "mylist=[65,87,45,82,2,00,64]\n",
        "mylist.remove(45)\n",
        "print(mylist)"
      ],
      "metadata": {
        "colab": {
          "base_uri": "https://localhost:8080/"
        },
        "id": "vkJRJajLAYZX",
        "outputId": "3a7634c2-8ae3-4e35-9f35-21bd958c6dc1"
      },
      "execution_count": 5,
      "outputs": [
        {
          "output_type": "stream",
          "name": "stdout",
          "text": [
            "[65, 87, 82, 2, 0, 64]\n"
          ]
        }
      ]
    },
    {
      "cell_type": "code",
      "source": [
        "mylist=[65,87,45,82,2,00,64]\n",
        "print(\"Regular value at index 2 is \",mylist[2])# regular value at index 2\n",
        "mylist.reverse()\n",
        "print('Reverse value at index 2 is ',mylist[2])# Reverse value at index 2"
      ],
      "metadata": {
        "colab": {
          "base_uri": "https://localhost:8080/"
        },
        "id": "RNHDVpQvAsMm",
        "outputId": "873eca6a-2089-42ae-fdd1-85b46994ff75"
      },
      "execution_count": null,
      "outputs": [
        {
          "output_type": "stream",
          "name": "stdout",
          "text": [
            "Regular value at index 2 is  45\n",
            "Reverse value at index 2 is  2\n"
          ]
        }
      ]
    },
    {
      "cell_type": "markdown",
      "source": [
        "# **Dictionaries**"
      ],
      "metadata": {
        "id": "kTqeuMUUD1er"
      }
    },
    {
      "cell_type": "code",
      "source": [
        "# {key : value}\n",
        "\n",
        "my_dict= {1 :\"python\",2 :\"c#\",3 :\"java\"}\n",
        "print(my_dict)\n",
        "my_dict.keys()\n",
        "my_dict.values()\n",
        "\n",
        "my_dict[4]='cotlin'\n",
        "print(my_dict)\n",
        "\n",
        "print(my_dict[2])"
      ],
      "metadata": {
        "colab": {
          "base_uri": "https://localhost:8080/"
        },
        "id": "UmEwbtk5D69k",
        "outputId": "748f7bad-15a8-4760-dd44-df59d0844552"
      },
      "execution_count": null,
      "outputs": [
        {
          "output_type": "stream",
          "name": "stdout",
          "text": [
            "{1: 'python', 2: 'c#', 3: 'java'}\n",
            "{1: 'python', 2: 'c#', 3: 'java', 4: 'cotlin'}\n",
            "c#\n"
          ]
        }
      ]
    }
  ]
}