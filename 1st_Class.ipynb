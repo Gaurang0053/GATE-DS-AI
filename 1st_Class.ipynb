{
  "nbformat": 4,
  "nbformat_minor": 0,
  "metadata": {
    "colab": {
      "provenance": [],
      "authorship_tag": "ABX9TyPGcIUjEEh74xDfvAPZbLIT",
      "include_colab_link": true
    },
    "kernelspec": {
      "name": "python3",
      "display_name": "Python 3"
    },
    "language_info": {
      "name": "python"
    }
  },
  "cells": [
    {
      "cell_type": "markdown",
      "metadata": {
        "id": "view-in-github",
        "colab_type": "text"
      },
      "source": [
        "<a href=\"https://colab.research.google.com/github/Gaurang0053/GATE-DS-AI/blob/main/1st_Class.ipynb\" target=\"_parent\"><img src=\"https://colab.research.google.com/assets/colab-badge.svg\" alt=\"Open In Colab\"/></a>"
      ]
    },
    {
      "cell_type": "markdown",
      "source": [
        "# Arithmetic Operators"
      ],
      "metadata": {
        "id": "eXv5c0YRzoOj"
      }
    },
    {
      "cell_type": "code",
      "execution_count": 2,
      "metadata": {
        "id": "8EUsAvfFJHWu",
        "colab": {
          "base_uri": "https://localhost:8080/"
        },
        "outputId": "961232f5-98b1-4901-86ed-f06b5d567e71"
      },
      "outputs": [
        {
          "output_type": "stream",
          "name": "stdout",
          "text": [
            "Addition is  60\n"
          ]
        }
      ],
      "source": [
        "num1=20\n",
        "num2=40\n",
        "add= num1+num2\n",
        "print ( \"Addition is \",add)"
      ]
    },
    {
      "cell_type": "code",
      "source": [
        "num1=20\n",
        "num2=40\n",
        "sub= num1 - num2\n",
        "print (\"Subtraction is \",sub)"
      ],
      "metadata": {
        "colab": {
          "base_uri": "https://localhost:8080/"
        },
        "id": "SnRt5UTsykMz",
        "outputId": "fbaf7587-ada2-4ef6-d145-25d6b1ddfbb6"
      },
      "execution_count": 3,
      "outputs": [
        {
          "output_type": "stream",
          "name": "stdout",
          "text": [
            "Subtraction is  -20\n"
          ]
        }
      ]
    },
    {
      "cell_type": "code",
      "source": [
        "num1=20\n",
        "num2=40\n",
        "Multi= num1 * num2\n",
        "print (\"Multiplication is \",Multi)"
      ],
      "metadata": {
        "colab": {
          "base_uri": "https://localhost:8080/"
        },
        "id": "egq1jRX6y3Gk",
        "outputId": "fb2f9bc0-3ae6-4c88-869e-7e22799055f2"
      },
      "execution_count": 5,
      "outputs": [
        {
          "output_type": "stream",
          "name": "stdout",
          "text": [
            "Multiplication is  800\n"
          ]
        }
      ]
    },
    {
      "cell_type": "code",
      "source": [
        "num1=40\n",
        "num2=20\n",
        "mod= num1 % num2\n",
        "print (\"Modulus is \",mod)"
      ],
      "metadata": {
        "colab": {
          "base_uri": "https://localhost:8080/"
        },
        "id": "uDD1jPkOzCU1",
        "outputId": "422b9a22-e262-43ed-c008-2dd089fd08be"
      },
      "execution_count": 6,
      "outputs": [
        {
          "output_type": "stream",
          "name": "stdout",
          "text": [
            "Modulus is  0\n"
          ]
        }
      ]
    },
    {
      "cell_type": "code",
      "source": [
        "num1=40\n",
        "num2=20\n",
        "divide= num1 / num2\n",
        "print (\"Divide is \",divide)"
      ],
      "metadata": {
        "colab": {
          "base_uri": "https://localhost:8080/"
        },
        "id": "regWhTEEzSsX",
        "outputId": "157ba8f3-5127-4ba1-d60d-b354d7469038"
      },
      "execution_count": 8,
      "outputs": [
        {
          "output_type": "stream",
          "name": "stdout",
          "text": [
            "Divide is  2.0\n"
          ]
        }
      ]
    },
    {
      "cell_type": "markdown",
      "source": [
        "# Assignment Operator"
      ],
      "metadata": {
        "id": "yhBfnrLDz0Gc"
      }
    },
    {
      "cell_type": "code",
      "source": [
        "a=15\n",
        "a+=2 #a =a + 2\n",
        "print (a)"
      ],
      "metadata": {
        "colab": {
          "base_uri": "https://localhost:8080/"
        },
        "id": "P1XSrwJSz4Ec",
        "outputId": "c296e610-9007-44b3-87fc-265487975845"
      },
      "execution_count": 10,
      "outputs": [
        {
          "output_type": "stream",
          "name": "stdout",
          "text": [
            "17\n"
          ]
        }
      ]
    },
    {
      "cell_type": "code",
      "source": [
        "a=15\n",
        "a-=2 #a =a - 2\n",
        "print (a)"
      ],
      "metadata": {
        "colab": {
          "base_uri": "https://localhost:8080/"
        },
        "id": "s_EsR00r0OPC",
        "outputId": "223e85ff-f30f-4a91-df0b-97fe399a4837"
      },
      "execution_count": 11,
      "outputs": [
        {
          "output_type": "stream",
          "name": "stdout",
          "text": [
            "13\n"
          ]
        }
      ]
    },
    {
      "cell_type": "code",
      "source": [
        "a=15\n",
        "a*=2 #a =a *2\n",
        "print (a)"
      ],
      "metadata": {
        "colab": {
          "base_uri": "https://localhost:8080/"
        },
        "id": "FNeZU0WD0Ogp",
        "outputId": "03fbe4b3-0878-4e60-a26a-5f4419844dd8"
      },
      "execution_count": 12,
      "outputs": [
        {
          "output_type": "stream",
          "name": "stdout",
          "text": [
            "30\n"
          ]
        }
      ]
    },
    {
      "cell_type": "markdown",
      "source": [
        "# Comparison Operator"
      ],
      "metadata": {
        "id": "KVCM8Z_n0bXo"
      }
    },
    {
      "cell_type": "code",
      "source": [
        "num1= 50\n",
        "num2= 50\n",
        "if num1>num2:\n",
        "  print (\"num1 is greater\")\n",
        "elif num1 == num2:\n",
        "  print (\"num1 and num2 are equal\")\n",
        "else:\n",
        "  print (\"num2 is greater\")"
      ],
      "metadata": {
        "colab": {
          "base_uri": "https://localhost:8080/"
        },
        "id": "uBULnSic1Dav",
        "outputId": "e6b17d11-84e5-4363-95d3-2c3c605df5e3"
      },
      "execution_count": 15,
      "outputs": [
        {
          "output_type": "stream",
          "name": "stdout",
          "text": [
            "num1 and num2 are equal\n"
          ]
        }
      ]
    },
    {
      "cell_type": "code",
      "source": [
        "num1= 20\n",
        "num2= 50\n",
        "num3= 40\n",
        "if num1>num2 and num1>num3:\n",
        "  print (\"num1 is greater\")\n",
        "elif num2>num1 and num2>num3:\n",
        "  print (\"num2 is greater\")\n",
        "else:\n",
        "  print (\"num3 is greater\")"
      ],
      "metadata": {
        "colab": {
          "base_uri": "https://localhost:8080/"
        },
        "id": "3aU4bq9j4LVg",
        "outputId": "5cf7134f-b69a-4690-fdaf-fa2acf1927d9"
      },
      "execution_count": 16,
      "outputs": [
        {
          "output_type": "stream",
          "name": "stdout",
          "text": [
            "num2 is greater\n"
          ]
        }
      ]
    },
    {
      "cell_type": "markdown",
      "source": [
        "# Identity Operator"
      ],
      "metadata": {
        "id": "YYx7uFkO6Y3n"
      }
    },
    {
      "cell_type": "code",
      "source": [
        "x = 10\n",
        "y = 20\n",
        "print ( x is y)"
      ],
      "metadata": {
        "colab": {
          "base_uri": "https://localhost:8080/"
        },
        "id": "xGrAMWFF6MnE",
        "outputId": "43366241-7665-471e-fc9a-6e03d45bdeb6"
      },
      "execution_count": 17,
      "outputs": [
        {
          "output_type": "stream",
          "name": "stdout",
          "text": [
            "False\n"
          ]
        }
      ]
    },
    {
      "cell_type": "code",
      "source": [
        "x = 10\n",
        "y = 20\n",
        "print ( x is not y)"
      ],
      "metadata": {
        "colab": {
          "base_uri": "https://localhost:8080/"
        },
        "id": "9JJDZPe26U8y",
        "outputId": "9d09948e-5da5-4ad8-be02-e5a4e5548c7d"
      },
      "execution_count": 18,
      "outputs": [
        {
          "output_type": "stream",
          "name": "stdout",
          "text": [
            "True\n"
          ]
        }
      ]
    },
    {
      "cell_type": "markdown",
      "source": [
        "# Membership operator"
      ],
      "metadata": {
        "id": "9niSwfYI6hAT"
      }
    },
    {
      "cell_type": "code",
      "source": [
        "x = 'apple'\n",
        "print ( 'apple' in x)"
      ],
      "metadata": {
        "colab": {
          "base_uri": "https://localhost:8080/"
        },
        "id": "t8bklHT46ln7",
        "outputId": "81d88e37-9681-431d-a6ff-5ca0bf5d0c1c"
      },
      "execution_count": 20,
      "outputs": [
        {
          "output_type": "stream",
          "name": "stdout",
          "text": [
            "True\n"
          ]
        }
      ]
    },
    {
      "cell_type": "code",
      "source": [
        "x = 'apple'\n",
        "print ('apple' not in x)"
      ],
      "metadata": {
        "colab": {
          "base_uri": "https://localhost:8080/"
        },
        "id": "uyvYF0Xe630h",
        "outputId": "f38007de-fafa-4984-ed21-937ff6b974d8"
      },
      "execution_count": 22,
      "outputs": [
        {
          "output_type": "stream",
          "name": "stdout",
          "text": [
            "False\n"
          ]
        }
      ]
    }
  ]
}